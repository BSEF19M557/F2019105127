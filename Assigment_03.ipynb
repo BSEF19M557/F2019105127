{
  "nbformat": 4,
  "nbformat_minor": 0,
  "metadata": {
    "colab": {
      "name": "Assigment#03.ipynb",
      "provenance": [],
      "collapsed_sections": []
    },
    "kernelspec": {
      "name": "python3",
      "display_name": "Python 3"
    },
    "language_info": {
      "name": "python"
    }
  },
  "cells": [
    {
      "cell_type": "markdown",
      "source": [
        "### Beautiful Soup Installation"
      ],
      "metadata": {
        "id": "DQnBr2k3ZliM"
      }
    },
    {
      "cell_type": "code",
      "execution_count": 11,
      "metadata": {
        "colab": {
          "base_uri": "https://localhost:8080/"
        },
        "id": "20XuPKNYZOj9",
        "outputId": "9d2b5a35-eaec-4066-970c-06572cdabc49"
      },
      "outputs": [
        {
          "output_type": "stream",
          "name": "stdout",
          "text": [
            "Requirement already satisfied: beautifulsoup4 in /usr/local/lib/python3.7/dist-packages (4.6.3)\n"
          ]
        }
      ],
      "source": [
        "pip install beautifulsoup4"
      ]
    },
    {
      "cell_type": "code",
      "source": [
        "import requests\n",
        "from bs4 import BeautifulSoup"
      ],
      "metadata": {
        "id": "ZgCUxPMtZh2A"
      },
      "execution_count": 12,
      "outputs": []
    },
    {
      "cell_type": "code",
      "source": [
        "Url=\"https://go.drugbank.com/covid-19#drugs\""
      ],
      "metadata": {
        "id": "5XRfOeERZ11u"
      },
      "execution_count": 13,
      "outputs": []
    },
    {
      "cell_type": "code",
      "source": [
        "page=requests.get(Url)"
      ],
      "metadata": {
        "id": "2nTYqX7MZ7-z"
      },
      "execution_count": 14,
      "outputs": []
    },
    {
      "cell_type": "code",
      "source": [
        "soup=BeautifulSoup(page.content,\"html.parser\")"
      ],
      "metadata": {
        "id": "0Rg0bs5yaD12"
      },
      "execution_count": 15,
      "outputs": []
    },
    {
      "cell_type": "code",
      "source": [
        "table=soup.find(\"table\",{\"class\":\"table table-sm datatable dt-responsive\"})"
      ],
      "metadata": {
        "id": "lpepKm_2aJhn"
      },
      "execution_count": 16,
      "outputs": []
    },
    {
      "cell_type": "code",
      "source": [
        "drugs_name=table.find_all(\"a\")"
      ],
      "metadata": {
        "id": "_xBygj7NbBsK"
      },
      "execution_count": 17,
      "outputs": []
    },
    {
      "cell_type": "markdown",
      "source": [
        "## **Top 10 Unapproved Covid-19 Drug Names**"
      ],
      "metadata": {
        "id": "upZSvogiffoJ"
      }
    },
    {
      "cell_type": "code",
      "source": [
        "for x in range(len(drugs_name)):\n",
        "  if(x<10):\n",
        "    print(drugs_name[x].text)\n",
        "   "
      ],
      "metadata": {
        "colab": {
          "base_uri": "https://localhost:8080/"
        },
        "id": "Smnz3V_NbDks",
        "outputId": "f4d116f1-a9e1-49f2-cad1-02f1539dc5e5"
      },
      "execution_count": 29,
      "outputs": [
        {
          "output_type": "stream",
          "name": "stdout",
          "text": [
            "Ritonavir\n",
            "Chloroquine\n",
            "Darunavir\n",
            "Lopinavir\n",
            "Galidesivir\n",
            "Favipiravir\n",
            "Umifenovir\n",
            "Human interferon beta\n",
            "Triazavirin\n",
            "TMC-310911\n"
          ]
        }
      ]
    },
    {
      "cell_type": "code",
      "source": [
        ""
      ],
      "metadata": {
        "id": "BaJ-GEk-MA8H"
      },
      "execution_count": null,
      "outputs": []
    }
  ]
}